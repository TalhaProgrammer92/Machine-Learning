{
 "cells": [
  {
   "cell_type": "markdown",
   "id": "cf99ae9e",
   "metadata": {},
   "source": [
    "# Intermediate Machine Learning"
   ]
  },
  {
   "cell_type": "code",
   "execution_count": 1,
   "id": "7c97f3d4",
   "metadata": {},
   "outputs": [
    {
     "name": "stderr",
     "output_type": "stream",
     "text": [
      "c:\\Users\\Talha Ahmad\\AppData\\Local\\Programs\\Python\\Python312\\Lib\\site-packages\\sklearn\\utils\\validation.py:2739: UserWarning: X does not have valid feature names, but LinearRegression was fitted with feature names\n",
      "  warnings.warn(\n"
     ]
    },
    {
     "data": {
      "text/plain": [
       "array([[5.30084223]])"
      ]
     },
     "execution_count": 1,
     "metadata": {},
     "output_type": "execute_result"
    }
   ],
   "source": [
    "import seaborn as sb\n",
    "from sklearn.linear_model import LinearRegression\n",
    "\n",
    "# ! Load data - Step 1 (Load Data)\n",
    "data_frame = sb.load_dataset('tips')\n",
    "data_frame.head()   # * Display the data\n",
    "\n",
    "# ! Feature column selection from the data frame - Step 2 (Create features & labels)\n",
    "X = data_frame[['total_bill']]      # * Feature\n",
    "y = data_frame[['tip']]             # * Label\n",
    "\n",
    "# ! Load the model - Step 3 (Create model)\n",
    "model = LinearRegression()\n",
    "\n",
    "# ! Fit the model - Training - Step 4 (Train the model)\n",
    "model.fit(X, y)\n",
    "\n",
    "# ! Prediction of y (tip) based on X (total bill)\n",
    "total_bill: int = 41.71\n",
    "model.predict([[total_bill]])\n"
   ]
  }
 ],
 "metadata": {
  "kernelspec": {
   "display_name": "Python 3",
   "language": "python",
   "name": "python3"
  },
  "language_info": {
   "codemirror_mode": {
    "name": "ipython",
    "version": 3
   },
   "file_extension": ".py",
   "mimetype": "text/x-python",
   "name": "python",
   "nbconvert_exporter": "python",
   "pygments_lexer": "ipython3",
   "version": "3.12.4"
  }
 },
 "nbformat": 4,
 "nbformat_minor": 5
}
